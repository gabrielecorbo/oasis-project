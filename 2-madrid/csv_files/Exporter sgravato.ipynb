{
 "cells": [
  {
   "cell_type": "code",
   "execution_count": 2,
   "metadata": {},
   "outputs": [
    {
     "name": "stdout",
     "output_type": "stream",
     "text": [
      "b'c:\\\\Users\\\\User\\\\Desktop\\\\ASP\\\\Oasis\\\\ocm-export\\\\data'\n"
     ]
    }
   ],
   "source": [
    "import os\n",
    "import pandas as pd\n",
    "import json\n",
    "from pandas import json_normalize\n",
    "\n",
    "directory0 = os.fsencode(os.getcwd())\n",
    "print(directory0)"
   ]
  },
  {
   "cell_type": "code",
   "execution_count": 6,
   "metadata": {},
   "outputs": [
    {
     "name": "stdout",
     "output_type": "stream",
     "text": [
      "AD\n",
      "AE\n",
      "AF\n",
      "AL\n",
      "AR\n",
      "AT\n",
      "AU\n",
      "AW\n",
      "AX\n",
      "AZ\n",
      "BA\n",
      "BB\n",
      "BE\n",
      "BG\n",
      "BR\n",
      "BW\n",
      "BY\n",
      "CA\n",
      "CH\n",
      "CL\n",
      "CN\n",
      "CO\n",
      "CR\n",
      "CY\n",
      "CZ\n",
      "DE\n",
      "DK\n",
      "DO\n",
      "EC\n",
      "EE\n",
      "EG\n",
      "ES\n",
      "ET\n",
      "FI\n",
      "FO\n",
      "FR\n",
      "GB\n",
      "GE\n",
      "GG\n",
      "GH\n",
      "GI\n",
      "GR\n",
      "HK\n",
      "HR\n",
      "HU\n",
      "ID\n",
      "IE\n",
      "IL\n",
      "IM\n",
      "IN\n",
      "IS\n",
      "IT\n",
      "JE\n",
      "JO\n",
      "JP\n",
      "KE\n",
      "KH\n",
      "KZ\n",
      "LC\n",
      "LI\n",
      "LK\n",
      "LT\n",
      "LU\n",
      "LV\n",
      "MA\n",
      "MC\n",
      "MD\n",
      "ME\n",
      "MK\n",
      "MO\n",
      "MT\n",
      "MX\n",
      "MY\n",
      "NA\n",
      "NL\n",
      "NO\n",
      "NZ\n",
      "PA\n",
      "PK\n",
      "PL\n",
      "PR\n",
      "PS\n",
      "PT\n",
      "RE\n",
      "RO\n",
      "RS\n",
      "RU\n",
      "RW\n",
      "SE\n",
      "SG\n",
      "SI\n",
      "SJ\n",
      "SK\n",
      "SM\n",
      "TH\n",
      "TN\n",
      "TR\n",
      "TT\n",
      "TW\n",
      "UA\n",
      "UG\n",
      "US\n",
      "UY\n",
      "VN\n",
      "XK\n",
      "ZA\n"
     ]
    }
   ],
   "source": [
    "result = pd.DataFrame()\n",
    "for fold in os.listdir(directory0):\n",
    "    foldname = os.fsdecode(fold)\n",
    "    if not(foldname.endswith(\".ipynb\")):\n",
    "        print(foldname)\n",
    "        directory = os.fsencode(os.getcwd() +'\\\\'+ foldname)\n",
    "        for file in os.listdir(directory):\n",
    "            filename = os.fsdecode(file)\n",
    "            if filename.endswith(\".asm\") or filename.endswith(\".json\"): \n",
    "                #print(file)\n",
    "                #print(os.path.join(directory, file))\n",
    "                f = open(os.path.join(directory, file),encoding=\"ISO-8859-1\") #utf8\n",
    "                # returns JSON object as \n",
    "                # a dictionary\n",
    "                data = json.load(f)\n",
    "                #data = json.load(os.path.join(directory, file))\n",
    "                #print(data)\n",
    "                #print(data['AddressInfo'])\n",
    "                # Use pandas.DataFrame.from_dict() to Convert JSON to DataFrame\n",
    "                df2 = pd.DataFrame.from_dict(data['AddressInfo'], orient=\"index\")\n",
    "                result = pd.concat([result,df2.transpose()])\n",
    "                #print(result)\n",
    "                continue\n",
    "            else:\n",
    "                continue\n",
    "    \n",
    "    # write a csv for each country using foldname string\n"
   ]
  },
  {
   "cell_type": "code",
   "execution_count": 11,
   "metadata": {},
   "outputs": [
    {
     "name": "stdout",
     "output_type": "stream",
     "text": [
      "(178714, 16)\n"
     ]
    }
   ],
   "source": [
    "print(result.shape)"
   ]
  },
  {
   "cell_type": "code",
   "execution_count": 12,
   "metadata": {},
   "outputs": [],
   "source": [
    "result.to_csv(os.getcwd() + '\\\\result.csv')  "
   ]
  }
 ],
 "metadata": {
  "kernelspec": {
   "display_name": "Python 3",
   "language": "python",
   "name": "python3"
  },
  "language_info": {
   "codemirror_mode": {
    "name": "ipython",
    "version": 3
   },
   "file_extension": ".py",
   "mimetype": "text/x-python",
   "name": "python",
   "nbconvert_exporter": "python",
   "pygments_lexer": "ipython3",
   "version": "3.10.2"
  },
  "orig_nbformat": 4
 },
 "nbformat": 4,
 "nbformat_minor": 2
}
