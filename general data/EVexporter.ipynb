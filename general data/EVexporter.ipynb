{
 "cells": [
  {
   "cell_type": "code",
   "execution_count": 1,
   "metadata": {},
   "outputs": [],
   "source": [
    "import os\n",
    "import pandas as pd\n",
    "\n",
    "directory = os.getcwd()"
   ]
  },
  {
   "cell_type": "code",
   "execution_count": 2,
   "metadata": {},
   "outputs": [],
   "source": [
    "data_path = directory +'\\\\all_charging_stat.csv'\n",
    "data = pd.read_csv(data_path)\n",
    "all_charging_stat = pd.DataFrame(data=data)"
   ]
  },
  {
   "cell_type": "code",
   "execution_count": 4,
   "metadata": {},
   "outputs": [
    {
     "name": "stdout",
     "output_type": "stream",
     "text": [
      "   Unnamed: 0      ID                 Title                   AddressLine1  \\\n",
      "0           0  163751         Hotel Guillem       Carrer dels ArÃ­nsols 10   \n",
      "1           0  202658  AndorraRacing Saturn  Avinguda del Princep Benlloch   \n",
      "2           0  202659    Andorracing Saturn  Avinguda del Princep Benlloch   \n",
      "3           0  211490          Parking Saba              Carrer Pau Casals   \n",
      "4           0   73559  Canillo Prat del Riu            Carrer Prat del Riu   \n",
      "\n",
      "               Town StateOrProvince Postcode  CountryID   Latitude  Longitude  \\\n",
      "0            Encamp          Encamp    AD200         10  42.535629   1.583180   \n",
      "1  Andorra la Vella             NaN    AD500         10  42.505041   1.515253   \n",
      "2  Andorra la Vella             NaN    AD500         10  42.505176   1.515291   \n",
      "3  Andorra la Vella             NaN    AD500         10  42.508729   1.530795   \n",
      "4           Canillo         Canillo    AD100         10  42.565901   1.598916   \n",
      "\n",
      "  ContactTelephone1           ContactEmail                    RelatedURL  \\\n",
      "0       +376 733900  info@hotelguillem.net  https://www.hotelguillem.net   \n",
      "1               NaN                    NaN                           NaN   \n",
      "2               NaN                    NaN                           NaN   \n",
      "3               NaN                    NaN                           NaN   \n",
      "4               NaN                    NaN           http://feda@feda.ad   \n",
      "\n",
      "   DistanceUnit AddressLine2 AccessComments ContactTelephone2  \n",
      "0             0          NaN            NaN               NaN  \n",
      "1             0          NaN            NaN               NaN  \n",
      "2             0          NaN            NaN               NaN  \n",
      "3             0          NaN            NaN               NaN  \n",
      "4             0          NaN            NaN               NaN  \n"
     ]
    }
   ],
   "source": [
    "print(all_charging_stat.head())"
   ]
  },
  {
   "cell_type": "code",
   "execution_count": 5,
   "metadata": {},
   "outputs": [],
   "source": [
    "cities = ['augsburg', 'basel', 'bern', 'birmingham', 'bolton', 'bordeaux',\n",
    "       'bremen', 'cagliari', 'constance', 'darmstadt', 'essen',\n",
    "       'frankfurt', 'graz', 'groningen', 'hamburg', 'innsbruck', 'kassel',\n",
    "       'london', 'losangeles', 'luzern', 'madrid', 'manchester',\n",
    "       'marseille', 'melbourne', 'munich', 'paris', 'rotterdam',\n",
    "       'santander', 'speyer', 'strasbourg', 'stuttgart', 'taipeh',\n",
    "       'torino', 'toronto', 'toulouse', 'utrecht', 'vilnius', 'wolfsburg',\n",
    "       'zurich']"
   ]
  },
  {
   "cell_type": "code",
   "execution_count": 8,
   "metadata": {},
   "outputs": [
    {
     "name": "stdout",
     "output_type": "stream",
     "text": [
      "['Augsburg', 'Basel', 'Bern', 'Birmingham', 'Bolton', 'Bordeaux', 'Bremen', 'Cagliari', 'Constance', 'Darmstadt', 'Essen', 'Frankfurt', 'Graz', 'Groningen', 'Hamburg', 'Innsbruck', 'Kassel', 'London', 'Losangeles', 'Luzern', 'Madrid', 'Manchester', 'Marseille', 'Melbourne', 'Munich', 'Paris', 'Rotterdam', 'Santander', 'Speyer', 'Strasbourg', 'Stuttgart', 'Taipeh', 'Torino', 'Toronto', 'Toulouse', 'Utrecht', 'Vilnius', 'Wolfsburg', 'Zurich']\n"
     ]
    }
   ],
   "source": [
    "m_cities = [x.title() for x in cities] \n",
    "print(m_cities)"
   ]
  },
  {
   "cell_type": "code",
   "execution_count": 10,
   "metadata": {},
   "outputs": [
    {
     "name": "stdout",
     "output_type": "stream",
     "text": [
      "[53, 10, 13, 155, 32, 26, 130, 4, 0, 51, 254, 19, 11, 78, 627, 34, 23, 6416, 0, 12, 399, 160, 20, 46, 15, 147, 350, 25, 23, 2, 270, 0, 57, 442, 14, 212, 15, 52, 8]\n"
     ]
    }
   ],
   "source": [
    "dims = [all_charging_stat[all_charging_stat['Town']==x].shape[0] for x in m_cities]\n",
    "print(dims)"
   ]
  },
  {
   "cell_type": "code",
   "execution_count": 22,
   "metadata": {},
   "outputs": [],
   "source": [
    "df = pd.concat([pd.DataFrame(m_cities), pd.DataFrame(dims)], axis=1)"
   ]
  },
  {
   "cell_type": "code",
   "execution_count": 24,
   "metadata": {},
   "outputs": [],
   "source": [
    "df.columns = ['City', 'n_of_chargers']"
   ]
  },
  {
   "cell_type": "code",
   "execution_count": 28,
   "metadata": {},
   "outputs": [
    {
     "data": {
      "text/html": [
       "<div>\n",
       "<style scoped>\n",
       "    .dataframe tbody tr th:only-of-type {\n",
       "        vertical-align: middle;\n",
       "    }\n",
       "\n",
       "    .dataframe tbody tr th {\n",
       "        vertical-align: top;\n",
       "    }\n",
       "\n",
       "    .dataframe thead th {\n",
       "        text-align: right;\n",
       "    }\n",
       "</style>\n",
       "<table border=\"1\" class=\"dataframe\">\n",
       "  <thead>\n",
       "    <tr style=\"text-align: right;\">\n",
       "      <th></th>\n",
       "      <th>City</th>\n",
       "      <th>n_of_chargers</th>\n",
       "    </tr>\n",
       "  </thead>\n",
       "  <tbody>\n",
       "    <tr>\n",
       "      <th>10</th>\n",
       "      <td>Essen</td>\n",
       "      <td>254</td>\n",
       "    </tr>\n",
       "    <tr>\n",
       "      <th>14</th>\n",
       "      <td>Hamburg</td>\n",
       "      <td>627</td>\n",
       "    </tr>\n",
       "    <tr>\n",
       "      <th>17</th>\n",
       "      <td>London</td>\n",
       "      <td>6416</td>\n",
       "    </tr>\n",
       "    <tr>\n",
       "      <th>20</th>\n",
       "      <td>Madrid</td>\n",
       "      <td>399</td>\n",
       "    </tr>\n",
       "    <tr>\n",
       "      <th>26</th>\n",
       "      <td>Rotterdam</td>\n",
       "      <td>350</td>\n",
       "    </tr>\n",
       "    <tr>\n",
       "      <th>30</th>\n",
       "      <td>Stuttgart</td>\n",
       "      <td>270</td>\n",
       "    </tr>\n",
       "    <tr>\n",
       "      <th>33</th>\n",
       "      <td>Toronto</td>\n",
       "      <td>442</td>\n",
       "    </tr>\n",
       "    <tr>\n",
       "      <th>35</th>\n",
       "      <td>Utrecht</td>\n",
       "      <td>212</td>\n",
       "    </tr>\n",
       "  </tbody>\n",
       "</table>\n",
       "</div>"
      ],
      "text/plain": [
       "         City  n_of_chargers\n",
       "10      Essen            254\n",
       "14    Hamburg            627\n",
       "17     London           6416\n",
       "20     Madrid            399\n",
       "26  Rotterdam            350\n",
       "30  Stuttgart            270\n",
       "33    Toronto            442\n",
       "35    Utrecht            212"
      ]
     },
     "execution_count": 28,
     "metadata": {},
     "output_type": "execute_result"
    }
   ],
   "source": [
    "df[df['n_of_chargers']>200]"
   ]
  },
  {
   "cell_type": "code",
   "execution_count": 3,
   "metadata": {},
   "outputs": [
    {
     "name": "stdout",
     "output_type": "stream",
     "text": [
      "(59, 17)\n"
     ]
    }
   ],
   "source": [
    "#df = all_charging_stat[all_charging_stat['StateOrProvince']=='Utrecht']\n",
    "#print(df.shape)"
   ]
  },
  {
   "cell_type": "code",
   "execution_count": 5,
   "metadata": {},
   "outputs": [
    {
     "name": "stdout",
     "output_type": "stream",
     "text": [
      "(212, 17)\n",
      "<bound method NDFrame.head of         Unnamed: 0      ID                       Title  \\\n",
      "104321           0  112632             Hoefijzerstraat   \n",
      "104341           0  118940    Cornelis Dirkszstraat 92   \n",
      "104358           0  129139                 Morelstraat   \n",
      "104366           0  131094             Nyeveltstraat 1   \n",
      "104431           0   13421             BP Cartesiusweg   \n",
      "...            ...     ...                         ...   \n",
      "111801           0   68423             Ananasstraat 32   \n",
      "111802           0   68424            Rembrandtlaan 70   \n",
      "111803           0   68425              Ariadnedreef 2   \n",
      "111806           0   68428                    Klopdijk   \n",
      "112146           0    9146  ANWB Servicecenter Utrecht   \n",
      "\n",
      "                    AddressLine1     Town StateOrProvince  Postcode  \\\n",
      "104321        Hoefijzerstraat 27  Utrecht         Utrecht    3572BT   \n",
      "104341  Cornelis Dirkszstraat 92  Utrecht             NaN    3554VN   \n",
      "104358            Morelstraat 37  Utrecht         Utrecht    3552GL   \n",
      "104366           Nyeveltstraat 1  Utrecht         Utrecht    3454EW   \n",
      "104431          Cartesiusweg 140  Utrecht             NaN   3534 BD   \n",
      "...                          ...      ...             ...       ...   \n",
      "111801           Ananasstraat 32  Utrecht             NaN   3552 TG   \n",
      "111802          Rembrandtlaan 70  Utrecht             NaN   3451 JD   \n",
      "111803            Ariadnedreef 2  Utrecht             NaN   3561 BR   \n",
      "111806                  Klopdijk  Utrecht             NaN   3563 HA   \n",
      "112146          Windhontlaan 40   Utrecht             NaN  3526 KV    \n",
      "\n",
      "        CountryID   Latitude  Longitude       ContactTelephone1 ContactEmail  \\\n",
      "104321        159  52.095896   5.137108                     NaN          NaN   \n",
      "104341        159  52.112060   5.095029                     NaN          NaN   \n",
      "104358        159  52.108203   5.102804                     NaN          NaN   \n",
      "104366        159  52.081447   5.035282                     NaN          NaN   \n",
      "104431        159  52.098279   5.086634            030-243 9956          NaN   \n",
      "...           ...        ...        ...                     ...          ...   \n",
      "111801        159  52.109341   5.102455                     NaN          NaN   \n",
      "111802        159  52.111369   5.015394                     NaN          NaN   \n",
      "111803        159  52.114573   5.131981                     NaN          NaN   \n",
      "111806        159  52.121582   5.092260                     NaN          NaN   \n",
      "112146        159  52.056029   5.108814  +31(0)30 â 287 41 75          NaN   \n",
      "\n",
      "                                               RelatedURL  DistanceUnit  \\\n",
      "104321  https://docs.google.com/forms/d/e/1FAIpQLSfuLP...             0   \n",
      "104341                                                NaN             0   \n",
      "104358                                                NaN             0   \n",
      "104366                                                NaN             0   \n",
      "104431   http://www.fuelservicesnederland.nl/cartesiusweg             0   \n",
      "...                                                   ...           ...   \n",
      "111801                              http://www.nuon.nl/ev             0   \n",
      "111802                              http://www.nuon.nl/ev             0   \n",
      "111803                              http://www.nuon.nl/ev             0   \n",
      "111806                              http://www.nuon.nl/ev             0   \n",
      "112146                      http://www.anwb.nl/elektrisch             0   \n",
      "\n",
      "       AddressLine2                                     AccessComments  \\\n",
      "104321          NaN                               NewMotion UTPITEN288   \n",
      "104341          NaN                                                NaN   \n",
      "104358          NaN                                                NaN   \n",
      "104366     De Meern                                             Public   \n",
      "104431          NaN  Open Maandag / Vrijdag 6h/23h  Zaterdag 7h/23h...   \n",
      "...             ...                                                ...   \n",
      "111801          NaN                                                NaN   \n",
      "111802          NaN                                                NaN   \n",
      "111803          NaN                                                NaN   \n",
      "111806          NaN                                                NaN   \n",
      "112146          NaN  Maandag t/m zaterdag - 6.45 tot 23.00 uur Zond...   \n",
      "\n",
      "       ContactTelephone2  \n",
      "104321               NaN  \n",
      "104341               NaN  \n",
      "104358               NaN  \n",
      "104366               NaN  \n",
      "104431               NaN  \n",
      "...                  ...  \n",
      "111801               NaN  \n",
      "111802               NaN  \n",
      "111803               NaN  \n",
      "111806               NaN  \n",
      "112146               NaN  \n",
      "\n",
      "[212 rows x 17 columns]>\n"
     ]
    }
   ],
   "source": [
    "df = all_charging_stat[all_charging_stat['Town']=='Utrecht']\n",
    "print(df.shape)\n",
    "print(df.head)"
   ]
  },
  {
   "cell_type": "code",
   "execution_count": 6,
   "metadata": {},
   "outputs": [
    {
     "name": "stderr",
     "output_type": "stream",
     "text": [
      "C:\\Users\\User\\AppData\\Local\\Temp\\ipykernel_3280\\1262646191.py:7: SettingWithCopyWarning: \n",
      "A value is trying to be set on a copy of a slice from a DataFrame.\n",
      "Try using .loc[row_indexer,col_indexer] = value instead\n",
      "\n",
      "See the caveats in the documentation: https://pandas.pydata.org/pandas-docs/stable/user_guide/indexing.html#returning-a-view-versus-a-copy\n",
      "  df['coordinates'] = df[['Longitude', 'Latitude']].values.tolist()\n",
      "C:\\Users\\User\\AppData\\Local\\Temp\\ipykernel_3280\\1262646191.py:8: SettingWithCopyWarning: \n",
      "A value is trying to be set on a copy of a slice from a DataFrame.\n",
      "Try using .loc[row_indexer,col_indexer] = value instead\n",
      "\n",
      "See the caveats in the documentation: https://pandas.pydata.org/pandas-docs/stable/user_guide/indexing.html#returning-a-view-versus-a-copy\n",
      "  df['coordinates'] = df['coordinates'].apply(Point)\n",
      "C:\\Users\\User\\AppData\\Local\\Temp\\ipykernel_3280\\1262646191.py:13: UserWarning: Column names longer than 10 characters will be truncated when saved to ESRI Shapefile.\n",
      "  gdf.to_file(os.getcwd()+'\\\\EV_points.shp')\n"
     ]
    }
   ],
   "source": [
    "from shapely.geometry import Point\n",
    "import geopandas as gpd\n",
    "def point_df_to_gdf(df):\n",
    "    \"\"\"takes a dataframe with columns named 'longitude' and 'latitude'\n",
    "    to transform to a geodataframe with point features\"\"\"\n",
    "\n",
    "    df['coordinates'] = df[['Longitude', 'Latitude']].values.tolist()\n",
    "    df['coordinates'] = df['coordinates'].apply(Point)\n",
    "    df = gpd.GeoDataFrame(df, geometry='coordinates')\n",
    "    return df\n",
    "\n",
    "gdf = point_df_to_gdf(df)\n",
    "gdf.to_file(os.getcwd()+'\\\\EV_points.shp')"
   ]
  }
 ],
 "metadata": {
  "kernelspec": {
   "display_name": "Python 3",
   "language": "python",
   "name": "python3"
  },
  "language_info": {
   "codemirror_mode": {
    "name": "ipython",
    "version": 3
   },
   "file_extension": ".py",
   "mimetype": "text/x-python",
   "name": "python",
   "nbconvert_exporter": "python",
   "pygments_lexer": "ipython3",
   "version": "3.10.2"
  },
  "orig_nbformat": 4
 },
 "nbformat": 4,
 "nbformat_minor": 2
}
