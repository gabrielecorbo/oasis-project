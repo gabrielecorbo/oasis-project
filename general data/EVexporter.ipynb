{
 "cells": [
  {
   "cell_type": "code",
   "execution_count": 8,
   "metadata": {},
   "outputs": [],
   "source": [
    "import os\n",
    "import pandas as pd\n",
    "\n",
    "directory = os.getcwd()"
   ]
  },
  {
   "cell_type": "code",
   "execution_count": 9,
   "metadata": {},
   "outputs": [],
   "source": [
    "data_path = directory +'\\\\all_charging_stat.csv'\n",
    "data = pd.read_csv(data_path)\n",
    "all_charging_stat = pd.DataFrame(data=data)"
   ]
  },
  {
   "cell_type": "code",
   "execution_count": 10,
   "metadata": {},
   "outputs": [
    {
     "name": "stdout",
     "output_type": "stream",
     "text": [
      "   Unnamed: 0      ID                 Title                   AddressLine1  \\\n",
      "0           0  163751         Hotel Guillem       Carrer dels ArÃ­nsols 10   \n",
      "1           0  202658  AndorraRacing Saturn  Avinguda del Princep Benlloch   \n",
      "2           0  202659    Andorracing Saturn  Avinguda del Princep Benlloch   \n",
      "3           0  211490          Parking Saba              Carrer Pau Casals   \n",
      "4           0   73559  Canillo Prat del Riu            Carrer Prat del Riu   \n",
      "\n",
      "               Town StateOrProvince Postcode  CountryID   Latitude  Longitude  \\\n",
      "0            Encamp          Encamp    AD200         10  42.535629   1.583180   \n",
      "1  Andorra la Vella             NaN    AD500         10  42.505041   1.515253   \n",
      "2  Andorra la Vella             NaN    AD500         10  42.505176   1.515291   \n",
      "3  Andorra la Vella             NaN    AD500         10  42.508729   1.530795   \n",
      "4           Canillo         Canillo    AD100         10  42.565901   1.598916   \n",
      "\n",
      "  ContactTelephone1           ContactEmail                    RelatedURL  \\\n",
      "0       +376 733900  info@hotelguillem.net  https://www.hotelguillem.net   \n",
      "1               NaN                    NaN                           NaN   \n",
      "2               NaN                    NaN                           NaN   \n",
      "3               NaN                    NaN                           NaN   \n",
      "4               NaN                    NaN           http://feda@feda.ad   \n",
      "\n",
      "   DistanceUnit AddressLine2 AccessComments ContactTelephone2  \n",
      "0             0          NaN            NaN               NaN  \n",
      "1             0          NaN            NaN               NaN  \n",
      "2             0          NaN            NaN               NaN  \n",
      "3             0          NaN            NaN               NaN  \n",
      "4             0          NaN            NaN               NaN  \n"
     ]
    }
   ],
   "source": [
    "print(all_charging_stat.head())"
   ]
  },
  {
   "cell_type": "code",
   "execution_count": 11,
   "metadata": {},
   "outputs": [],
   "source": [
    "cities = ['augsburg', 'basel', 'bern', 'birmingham', 'bolton', 'bordeaux',\n",
    "       'bremen', 'cagliari', 'constance', 'darmstadt', 'essen',\n",
    "       'frankfurt', 'graz', 'groningen', 'hamburg', 'innsbruck', 'kassel',\n",
    "       'london', 'losangeles', 'luzern', 'madrid', 'manchester',\n",
    "       'marseille', 'melbourne', 'munich', 'paris', 'rotterdam',\n",
    "       'santander', 'speyer', 'strasbourg', 'stuttgart', 'taipeh',\n",
    "       'torino', 'toronto', 'toulouse', 'utrecht', 'vilnius', 'wolfsburg',\n",
    "       'zurich']"
   ]
  },
  {
   "cell_type": "code",
   "execution_count": 12,
   "metadata": {},
   "outputs": [
    {
     "name": "stdout",
     "output_type": "stream",
     "text": [
      "['Augsburg', 'Basel', 'Bern', 'Birmingham', 'Bolton', 'Bordeaux', 'Bremen', 'Cagliari', 'Constance', 'Darmstadt', 'Essen', 'Frankfurt', 'Graz', 'Groningen', 'Hamburg', 'Innsbruck', 'Kassel', 'London', 'Losangeles', 'Luzern', 'Madrid', 'Manchester', 'Marseille', 'Melbourne', 'Munich', 'Paris', 'Rotterdam', 'Santander', 'Speyer', 'Strasbourg', 'Stuttgart', 'Taipeh', 'Torino', 'Toronto', 'Toulouse', 'Utrecht', 'Vilnius', 'Wolfsburg', 'Zurich']\n"
     ]
    }
   ],
   "source": [
    "m_cities = [x.title() for x in cities] \n",
    "print(m_cities)"
   ]
  },
  {
   "cell_type": "code",
   "execution_count": 13,
   "metadata": {},
   "outputs": [
    {
     "name": "stdout",
     "output_type": "stream",
     "text": [
      "[53, 10, 13, 155, 32, 26, 130, 4, 0, 51, 254, 19, 11, 78, 627, 34, 23, 6416, 0, 12, 399, 160, 20, 46, 15, 147, 350, 25, 23, 2, 270, 0, 57, 442, 14, 212, 15, 52, 8]\n"
     ]
    }
   ],
   "source": [
    "dims = [all_charging_stat[all_charging_stat['Town']==x].shape[0] for x in m_cities]\n",
    "print(dims)"
   ]
  },
  {
   "cell_type": "code",
   "execution_count": 14,
   "metadata": {},
   "outputs": [],
   "source": [
    "df = pd.concat([pd.DataFrame(m_cities), pd.DataFrame(dims)], axis=1)"
   ]
  },
  {
   "cell_type": "code",
   "execution_count": 15,
   "metadata": {},
   "outputs": [],
   "source": [
    "df.columns = ['City', 'n_of_chargers']"
   ]
  },
  {
   "cell_type": "code",
   "execution_count": 19,
   "metadata": {},
   "outputs": [
    {
     "data": {
      "text/html": [
       "<div>\n",
       "<style scoped>\n",
       "    .dataframe tbody tr th:only-of-type {\n",
       "        vertical-align: middle;\n",
       "    }\n",
       "\n",
       "    .dataframe tbody tr th {\n",
       "        vertical-align: top;\n",
       "    }\n",
       "\n",
       "    .dataframe thead th {\n",
       "        text-align: right;\n",
       "    }\n",
       "</style>\n",
       "<table border=\"1\" class=\"dataframe\">\n",
       "  <thead>\n",
       "    <tr style=\"text-align: right;\">\n",
       "      <th></th>\n",
       "      <th>City</th>\n",
       "      <th>n_of_chargers</th>\n",
       "    </tr>\n",
       "  </thead>\n",
       "  <tbody>\n",
       "    <tr>\n",
       "      <th>6</th>\n",
       "      <td>Bremen</td>\n",
       "      <td>130</td>\n",
       "    </tr>\n",
       "    <tr>\n",
       "      <th>25</th>\n",
       "      <td>Paris</td>\n",
       "      <td>147</td>\n",
       "    </tr>\n",
       "    <tr>\n",
       "      <th>3</th>\n",
       "      <td>Birmingham</td>\n",
       "      <td>155</td>\n",
       "    </tr>\n",
       "    <tr>\n",
       "      <th>21</th>\n",
       "      <td>Manchester</td>\n",
       "      <td>160</td>\n",
       "    </tr>\n",
       "    <tr>\n",
       "      <th>35</th>\n",
       "      <td>Utrecht</td>\n",
       "      <td>212</td>\n",
       "    </tr>\n",
       "    <tr>\n",
       "      <th>10</th>\n",
       "      <td>Essen</td>\n",
       "      <td>254</td>\n",
       "    </tr>\n",
       "    <tr>\n",
       "      <th>30</th>\n",
       "      <td>Stuttgart</td>\n",
       "      <td>270</td>\n",
       "    </tr>\n",
       "    <tr>\n",
       "      <th>26</th>\n",
       "      <td>Rotterdam</td>\n",
       "      <td>350</td>\n",
       "    </tr>\n",
       "    <tr>\n",
       "      <th>20</th>\n",
       "      <td>Madrid</td>\n",
       "      <td>399</td>\n",
       "    </tr>\n",
       "    <tr>\n",
       "      <th>33</th>\n",
       "      <td>Toronto</td>\n",
       "      <td>442</td>\n",
       "    </tr>\n",
       "    <tr>\n",
       "      <th>14</th>\n",
       "      <td>Hamburg</td>\n",
       "      <td>627</td>\n",
       "    </tr>\n",
       "    <tr>\n",
       "      <th>17</th>\n",
       "      <td>London</td>\n",
       "      <td>6416</td>\n",
       "    </tr>\n",
       "  </tbody>\n",
       "</table>\n",
       "</div>"
      ],
      "text/plain": [
       "          City  n_of_chargers\n",
       "6       Bremen            130\n",
       "25       Paris            147\n",
       "3   Birmingham            155\n",
       "21  Manchester            160\n",
       "35     Utrecht            212\n",
       "10       Essen            254\n",
       "30   Stuttgart            270\n",
       "26   Rotterdam            350\n",
       "20      Madrid            399\n",
       "33     Toronto            442\n",
       "14     Hamburg            627\n",
       "17      London           6416"
      ]
     },
     "execution_count": 19,
     "metadata": {},
     "output_type": "execute_result"
    }
   ],
   "source": [
    "df[df['n_of_chargers']>100].sort_values('n_of_chargers')"
   ]
  },
  {
   "cell_type": "code",
   "execution_count": 24,
   "metadata": {},
   "outputs": [
    {
     "name": "stdout",
     "output_type": "stream",
     "text": [
      "(200, 17)\n"
     ]
    }
   ],
   "source": [
    "#df = all_charging_stat[all_charging_stat['StateOrProvince']=='Ontario']\n",
    "#print(df.shape)"
   ]
  },
  {
   "cell_type": "code",
   "execution_count": 26,
   "metadata": {},
   "outputs": [
    {
     "name": "stdout",
     "output_type": "stream",
     "text": [
      "(442, 17)\n",
      "<bound method NDFrame.head of         Unnamed: 0      ID                                         Title  \\\n",
      "3546             0  101653         Toronto, on - Bay Street Supercharger   \n",
      "3549             0  101877                  Toronto Pan Am Sports Centre   \n",
      "3575             0  105735  Radisson Admiral Hotel Toronto- Harbourfront   \n",
      "3576             0  105833                      Queens Quay West Parkade   \n",
      "3620             0  109666                 State Street Financial Centre   \n",
      "...            ...     ...                                           ...   \n",
      "13980            0   92900                      Shangri-la Hotel Toronto   \n",
      "13984            0    9175                                 842 King St W   \n",
      "13993            0   94356                    Target Park - 365 Bloor St   \n",
      "14034            0   98042                         Bloor Islington Place   \n",
      "158479           0  231777               AmbuEnergy Office - Private Use   \n",
      "\n",
      "               AddressLine1     Town StateOrProvince    Postcode  CountryID  \\\n",
      "3546       220 Yonge Street  Toronto             NaN     M5B 2H1         44   \n",
      "3549    875 Morningside Ave  Toronto         Ontario     M1C 0C7         44   \n",
      "3575      249 Queens Quay W  Toronto         Ontario     M5J 2N5         44   \n",
      "3576      7 Lower Simcoe St  Toronto         Ontario     M5V 1Z2         44   \n",
      "3620       30 Adelaide St E  Toronto         Ontario     M5C 3H1         44   \n",
      "...                     ...      ...             ...         ...        ...   \n",
      "13980    188 University Ave  Toronto         Ontario     M5H 0A3         44   \n",
      "13984         842 King St W  Toronto             NaN     M5V 1P1         44   \n",
      "13993        365 Bloor St E  Toronto         Ontario     M4Y 2L1         44   \n",
      "14034       3280 Bloor St W  Toronto             NaN  ON M8X 2X3         44   \n",
      "158479    4-465 Milner Ave.  Toronto              ON       M1B 2          2   \n",
      "\n",
      "         Latitude  Longitude ContactTelephone1 ContactEmail  \\\n",
      "3546    43.655596 -79.382963               NaN          NaN   \n",
      "3549    43.791559 -79.194757    (416) 283-5222          NaN   \n",
      "3575    43.638603 -79.385449    (416) 203-3333          NaN   \n",
      "3576    43.640202 -79.382062    (416) 366-3516          NaN   \n",
      "3620    43.651448 -79.376162    (416) 365-4164          NaN   \n",
      "...           ...        ...               ...          ...   \n",
      "13980   43.649135 -79.386237    (647) 788-8888          NaN   \n",
      "13984   43.642978 -79.408297        4167030600          NaN   \n",
      "13993   43.671915 -79.377971    (416) 425-7275          NaN   \n",
      "14034   43.645496 -79.522243    (416) 239-3397          NaN   \n",
      "158479  43.791370 -79.227470      855-885-9571          NaN   \n",
      "\n",
      "                          RelatedURL  DistanceUnit AddressLine2  \\\n",
      "3546                             NaN             0          NaN   \n",
      "3549                             NaN             0          NaN   \n",
      "3575                             NaN             0          NaN   \n",
      "3576                             NaN             0          NaN   \n",
      "3620                             NaN             0          NaN   \n",
      "...                              ...           ...          ...   \n",
      "13980                            NaN             0          NaN   \n",
      "13984   http://carstations.com/14288             0          NaN   \n",
      "13993                            NaN             0          NaN   \n",
      "14034                            NaN             0          NaN   \n",
      "158479     http://www.opconnect.com/             0          NaN   \n",
      "\n",
      "       AccessComments ContactTelephone2  \n",
      "3546              NaN               NaN  \n",
      "3549              NaN               NaN  \n",
      "3575              NaN               NaN  \n",
      "3576              NaN               NaN  \n",
      "3620              NaN               NaN  \n",
      "...               ...               ...  \n",
      "13980             NaN               NaN  \n",
      "13984             NaN               NaN  \n",
      "13993             NaN               NaN  \n",
      "14034             NaN               NaN  \n",
      "158479            NaN               NaN  \n",
      "\n",
      "[442 rows x 17 columns]>\n"
     ]
    }
   ],
   "source": [
    "df = all_charging_stat[all_charging_stat['Town']=='Toronto']\n",
    "print(df.shape)\n",
    "print(df.head)"
   ]
  },
  {
   "cell_type": "code",
   "execution_count": 27,
   "metadata": {},
   "outputs": [
    {
     "name": "stderr",
     "output_type": "stream",
     "text": [
      "C:\\Users\\User\\AppData\\Local\\Temp\\ipykernel_3280\\1262646191.py:7: SettingWithCopyWarning: \n",
      "A value is trying to be set on a copy of a slice from a DataFrame.\n",
      "Try using .loc[row_indexer,col_indexer] = value instead\n",
      "\n",
      "See the caveats in the documentation: https://pandas.pydata.org/pandas-docs/stable/user_guide/indexing.html#returning-a-view-versus-a-copy\n",
      "  df['coordinates'] = df[['Longitude', 'Latitude']].values.tolist()\n",
      "C:\\Users\\User\\AppData\\Local\\Temp\\ipykernel_3280\\1262646191.py:8: SettingWithCopyWarning: \n",
      "A value is trying to be set on a copy of a slice from a DataFrame.\n",
      "Try using .loc[row_indexer,col_indexer] = value instead\n",
      "\n",
      "See the caveats in the documentation: https://pandas.pydata.org/pandas-docs/stable/user_guide/indexing.html#returning-a-view-versus-a-copy\n",
      "  df['coordinates'] = df['coordinates'].apply(Point)\n",
      "C:\\Users\\User\\AppData\\Local\\Temp\\ipykernel_3280\\1262646191.py:13: UserWarning: Column names longer than 10 characters will be truncated when saved to ESRI Shapefile.\n",
      "  gdf.to_file(os.getcwd()+'\\\\EV_points.shp')\n"
     ]
    }
   ],
   "source": [
    "from shapely.geometry import Point\n",
    "import geopandas as gpd\n",
    "def point_df_to_gdf(df):\n",
    "    \"\"\"takes a dataframe with columns named 'longitude' and 'latitude'\n",
    "    to transform to a geodataframe with point features\"\"\"\n",
    "\n",
    "    df['coordinates'] = df[['Longitude', 'Latitude']].values.tolist()\n",
    "    df['coordinates'] = df['coordinates'].apply(Point)\n",
    "    df = gpd.GeoDataFrame(df, geometry='coordinates')\n",
    "    return df\n",
    "\n",
    "gdf = point_df_to_gdf(df)\n",
    "gdf.to_file(os.getcwd()+'\\\\EV_points.shp')"
   ]
  }
 ],
 "metadata": {
  "kernelspec": {
   "display_name": "Python 3",
   "language": "python",
   "name": "python3"
  },
  "language_info": {
   "codemirror_mode": {
    "name": "ipython",
    "version": 3
   },
   "file_extension": ".py",
   "mimetype": "text/x-python",
   "name": "python",
   "nbconvert_exporter": "python",
   "pygments_lexer": "ipython3",
   "version": "3.10.2"
  },
  "orig_nbformat": 4
 },
 "nbformat": 4,
 "nbformat_minor": 2
}
