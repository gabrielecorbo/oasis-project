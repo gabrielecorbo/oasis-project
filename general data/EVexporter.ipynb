{
 "cells": [
  {
   "cell_type": "code",
   "execution_count": 2,
   "metadata": {},
   "outputs": [],
   "source": [
    "import os\n",
    "import pandas as pd\n",
    "\n",
    "directory = os.getcwd()"
   ]
  },
  {
   "cell_type": "code",
   "execution_count": 3,
   "metadata": {},
   "outputs": [],
   "source": [
    "data_path = directory +'\\\\all_charging_stat.csv'\n",
    "data = pd.read_csv(data_path)\n",
    "all_charging_stat = pd.DataFrame(data=data)"
   ]
  },
  {
   "cell_type": "code",
   "execution_count": 4,
   "metadata": {},
   "outputs": [
    {
     "name": "stdout",
     "output_type": "stream",
     "text": [
      "   Unnamed: 0      ID                 Title                   AddressLine1  \\\n",
      "0           0  163751         Hotel Guillem       Carrer dels ArÃ­nsols 10   \n",
      "1           0  202658  AndorraRacing Saturn  Avinguda del Princep Benlloch   \n",
      "2           0  202659    Andorracing Saturn  Avinguda del Princep Benlloch   \n",
      "3           0  211490          Parking Saba              Carrer Pau Casals   \n",
      "4           0   73559  Canillo Prat del Riu            Carrer Prat del Riu   \n",
      "\n",
      "               Town StateOrProvince Postcode  CountryID   Latitude  Longitude  \\\n",
      "0            Encamp          Encamp    AD200         10  42.535629   1.583180   \n",
      "1  Andorra la Vella             NaN    AD500         10  42.505041   1.515253   \n",
      "2  Andorra la Vella             NaN    AD500         10  42.505176   1.515291   \n",
      "3  Andorra la Vella             NaN    AD500         10  42.508729   1.530795   \n",
      "4           Canillo         Canillo    AD100         10  42.565901   1.598916   \n",
      "\n",
      "  ContactTelephone1           ContactEmail                    RelatedURL  \\\n",
      "0       +376 733900  info@hotelguillem.net  https://www.hotelguillem.net   \n",
      "1               NaN                    NaN                           NaN   \n",
      "2               NaN                    NaN                           NaN   \n",
      "3               NaN                    NaN                           NaN   \n",
      "4               NaN                    NaN           http://feda@feda.ad   \n",
      "\n",
      "   DistanceUnit AddressLine2 AccessComments ContactTelephone2  \n",
      "0             0          NaN            NaN               NaN  \n",
      "1             0          NaN            NaN               NaN  \n",
      "2             0          NaN            NaN               NaN  \n",
      "3             0          NaN            NaN               NaN  \n",
      "4             0          NaN            NaN               NaN  \n"
     ]
    }
   ],
   "source": [
    "print(all_charging_stat.head())"
   ]
  },
  {
   "cell_type": "code",
   "execution_count": 5,
   "metadata": {},
   "outputs": [],
   "source": [
    "cities = ['augsburg', 'basel', 'bern', 'birmingham', 'bolton', 'bordeaux',\n",
    "       'bremen', 'cagliari', 'constance', 'darmstadt', 'essen',\n",
    "       'frankfurt', 'graz', 'groningen', 'hamburg', 'innsbruck', 'kassel',\n",
    "       'london', 'losangeles', 'luzern', 'madrid', 'manchester',\n",
    "       'marseille', 'melbourne', 'munich', 'paris', 'rotterdam',\n",
    "       'santander', 'speyer', 'strasbourg', 'stuttgart', 'taipeh',\n",
    "       'torino', 'toronto', 'toulouse', 'utrecht', 'vilnius', 'wolfsburg',\n",
    "       'zurich']"
   ]
  },
  {
   "cell_type": "code",
   "execution_count": 8,
   "metadata": {},
   "outputs": [
    {
     "name": "stdout",
     "output_type": "stream",
     "text": [
      "['Augsburg', 'Basel', 'Bern', 'Birmingham', 'Bolton', 'Bordeaux', 'Bremen', 'Cagliari', 'Constance', 'Darmstadt', 'Essen', 'Frankfurt', 'Graz', 'Groningen', 'Hamburg', 'Innsbruck', 'Kassel', 'London', 'Losangeles', 'Luzern', 'Madrid', 'Manchester', 'Marseille', 'Melbourne', 'Munich', 'Paris', 'Rotterdam', 'Santander', 'Speyer', 'Strasbourg', 'Stuttgart', 'Taipeh', 'Torino', 'Toronto', 'Toulouse', 'Utrecht', 'Vilnius', 'Wolfsburg', 'Zurich']\n"
     ]
    }
   ],
   "source": [
    "m_cities = [x.title() for x in cities] \n",
    "print(m_cities)"
   ]
  },
  {
   "cell_type": "code",
   "execution_count": 10,
   "metadata": {},
   "outputs": [
    {
     "name": "stdout",
     "output_type": "stream",
     "text": [
      "[53, 10, 13, 155, 32, 26, 130, 4, 0, 51, 254, 19, 11, 78, 627, 34, 23, 6416, 0, 12, 399, 160, 20, 46, 15, 147, 350, 25, 23, 2, 270, 0, 57, 442, 14, 212, 15, 52, 8]\n"
     ]
    }
   ],
   "source": [
    "dims = [all_charging_stat[all_charging_stat['Town']==x].shape[0] for x in m_cities]\n",
    "print(dims)"
   ]
  },
  {
   "cell_type": "code",
   "execution_count": 22,
   "metadata": {},
   "outputs": [],
   "source": [
    "df = pd.concat([pd.DataFrame(m_cities), pd.DataFrame(dims)], axis=1)"
   ]
  },
  {
   "cell_type": "code",
   "execution_count": 24,
   "metadata": {},
   "outputs": [],
   "source": [
    "df.columns = ['City', 'n_of_chargers']"
   ]
  },
  {
   "cell_type": "code",
   "execution_count": 28,
   "metadata": {},
   "outputs": [
    {
     "data": {
      "text/html": [
       "<div>\n",
       "<style scoped>\n",
       "    .dataframe tbody tr th:only-of-type {\n",
       "        vertical-align: middle;\n",
       "    }\n",
       "\n",
       "    .dataframe tbody tr th {\n",
       "        vertical-align: top;\n",
       "    }\n",
       "\n",
       "    .dataframe thead th {\n",
       "        text-align: right;\n",
       "    }\n",
       "</style>\n",
       "<table border=\"1\" class=\"dataframe\">\n",
       "  <thead>\n",
       "    <tr style=\"text-align: right;\">\n",
       "      <th></th>\n",
       "      <th>City</th>\n",
       "      <th>n_of_chargers</th>\n",
       "    </tr>\n",
       "  </thead>\n",
       "  <tbody>\n",
       "    <tr>\n",
       "      <th>10</th>\n",
       "      <td>Essen</td>\n",
       "      <td>254</td>\n",
       "    </tr>\n",
       "    <tr>\n",
       "      <th>14</th>\n",
       "      <td>Hamburg</td>\n",
       "      <td>627</td>\n",
       "    </tr>\n",
       "    <tr>\n",
       "      <th>17</th>\n",
       "      <td>London</td>\n",
       "      <td>6416</td>\n",
       "    </tr>\n",
       "    <tr>\n",
       "      <th>20</th>\n",
       "      <td>Madrid</td>\n",
       "      <td>399</td>\n",
       "    </tr>\n",
       "    <tr>\n",
       "      <th>26</th>\n",
       "      <td>Rotterdam</td>\n",
       "      <td>350</td>\n",
       "    </tr>\n",
       "    <tr>\n",
       "      <th>30</th>\n",
       "      <td>Stuttgart</td>\n",
       "      <td>270</td>\n",
       "    </tr>\n",
       "    <tr>\n",
       "      <th>33</th>\n",
       "      <td>Toronto</td>\n",
       "      <td>442</td>\n",
       "    </tr>\n",
       "    <tr>\n",
       "      <th>35</th>\n",
       "      <td>Utrecht</td>\n",
       "      <td>212</td>\n",
       "    </tr>\n",
       "  </tbody>\n",
       "</table>\n",
       "</div>"
      ],
      "text/plain": [
       "         City  n_of_chargers\n",
       "10      Essen            254\n",
       "14    Hamburg            627\n",
       "17     London           6416\n",
       "20     Madrid            399\n",
       "26  Rotterdam            350\n",
       "30  Stuttgart            270\n",
       "33    Toronto            442\n",
       "35    Utrecht            212"
      ]
     },
     "execution_count": 28,
     "metadata": {},
     "output_type": "execute_result"
    }
   ],
   "source": [
    "df[df['n_of_chargers']>200]"
   ]
  },
  {
   "cell_type": "code",
   "execution_count": 7,
   "metadata": {},
   "outputs": [
    {
     "name": "stdout",
     "output_type": "stream",
     "text": [
      "(350, 17)\n"
     ]
    }
   ],
   "source": [
    "df = all_charging_stat[all_charging_stat['Town']=='Rotterdam']\n",
    "print(df.shape[1])"
   ]
  },
  {
   "cell_type": "code",
   "execution_count": 8,
   "metadata": {},
   "outputs": [
    {
     "name": "stderr",
     "output_type": "stream",
     "text": [
      "C:\\Users\\User\\AppData\\Local\\Temp\\ipykernel_12416\\1262646191.py:7: SettingWithCopyWarning: \n",
      "A value is trying to be set on a copy of a slice from a DataFrame.\n",
      "Try using .loc[row_indexer,col_indexer] = value instead\n",
      "\n",
      "See the caveats in the documentation: https://pandas.pydata.org/pandas-docs/stable/user_guide/indexing.html#returning-a-view-versus-a-copy\n",
      "  df['coordinates'] = df[['Longitude', 'Latitude']].values.tolist()\n",
      "C:\\Users\\User\\AppData\\Local\\Temp\\ipykernel_12416\\1262646191.py:8: SettingWithCopyWarning: \n",
      "A value is trying to be set on a copy of a slice from a DataFrame.\n",
      "Try using .loc[row_indexer,col_indexer] = value instead\n",
      "\n",
      "See the caveats in the documentation: https://pandas.pydata.org/pandas-docs/stable/user_guide/indexing.html#returning-a-view-versus-a-copy\n",
      "  df['coordinates'] = df['coordinates'].apply(Point)\n",
      "C:\\Users\\User\\AppData\\Local\\Temp\\ipykernel_12416\\1262646191.py:13: UserWarning: Column names longer than 10 characters will be truncated when saved to ESRI Shapefile.\n",
      "  gdf.to_file(os.getcwd()+'\\\\EV_points.shp')\n"
     ]
    }
   ],
   "source": [
    "from shapely.geometry import Point\n",
    "import geopandas as gpd\n",
    "def point_df_to_gdf(df):\n",
    "    \"\"\"takes a dataframe with columns named 'longitude' and 'latitude'\n",
    "    to transform to a geodataframe with point features\"\"\"\n",
    "\n",
    "    df['coordinates'] = df[['Longitude', 'Latitude']].values.tolist()\n",
    "    df['coordinates'] = df['coordinates'].apply(Point)\n",
    "    df = gpd.GeoDataFrame(df, geometry='coordinates')\n",
    "    return df\n",
    "\n",
    "gdf = point_df_to_gdf(df)\n",
    "gdf.to_file(os.getcwd()+'\\\\EV_points.shp')"
   ]
  }
 ],
 "metadata": {
  "kernelspec": {
   "display_name": "Python 3",
   "language": "python",
   "name": "python3"
  },
  "language_info": {
   "codemirror_mode": {
    "name": "ipython",
    "version": 3
   },
   "file_extension": ".py",
   "mimetype": "text/x-python",
   "name": "python",
   "nbconvert_exporter": "python",
   "pygments_lexer": "ipython3",
   "version": "3.10.2"
  },
  "orig_nbformat": 4
 },
 "nbformat": 4,
 "nbformat_minor": 2
}
